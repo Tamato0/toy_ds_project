{
 "cells": [
  {
   "cell_type": "code",
   "execution_count": 1,
   "metadata": {},
   "outputs": [
    {
     "name": "stderr",
     "output_type": "stream",
     "text": [
      "── \u001b[1mAttaching packages\u001b[22m ─────────────────────────────────────── tidyverse 1.3.0 ──\n",
      "\n",
      "\u001b[32m✔\u001b[39m \u001b[34mggplot2\u001b[39m 3.3.2     \u001b[32m✔\u001b[39m \u001b[34mpurrr  \u001b[39m 0.3.4\n",
      "\u001b[32m✔\u001b[39m \u001b[34mtibble \u001b[39m 3.0.3     \u001b[32m✔\u001b[39m \u001b[34mdplyr  \u001b[39m 1.0.2\n",
      "\u001b[32m✔\u001b[39m \u001b[34mtidyr  \u001b[39m 1.1.2     \u001b[32m✔\u001b[39m \u001b[34mstringr\u001b[39m 1.4.0\n",
      "\u001b[32m✔\u001b[39m \u001b[34mreadr  \u001b[39m 1.3.1     \u001b[32m✔\u001b[39m \u001b[34mforcats\u001b[39m 0.5.0\n",
      "\n",
      "Warning message:\n",
      "“package ‘ggplot2’ was built under R version 4.0.1”\n",
      "Warning message:\n",
      "“package ‘tibble’ was built under R version 4.0.2”\n",
      "Warning message:\n",
      "“package ‘tidyr’ was built under R version 4.0.2”\n",
      "Warning message:\n",
      "“package ‘dplyr’ was built under R version 4.0.2”\n",
      "── \u001b[1mConflicts\u001b[22m ────────────────────────────────────────── tidyverse_conflicts() ──\n",
      "\u001b[31m✖\u001b[39m \u001b[34mdplyr\u001b[39m::\u001b[32mfilter()\u001b[39m masks \u001b[34mstats\u001b[39m::filter()\n",
      "\u001b[31m✖\u001b[39m \u001b[34mdplyr\u001b[39m::\u001b[32mlag()\u001b[39m    masks \u001b[34mstats\u001b[39m::lag()\n",
      "\n",
      "Warning message:\n",
      "“package ‘tidymodels’ was built under R version 4.0.2”\n",
      "── \u001b[1mAttaching packages\u001b[22m ────────────────────────────────────── tidymodels 0.1.1 ──\n",
      "\n",
      "\u001b[32m✔\u001b[39m \u001b[34mbroom    \u001b[39m 0.7.0      \u001b[32m✔\u001b[39m \u001b[34mrecipes  \u001b[39m 0.1.13\n",
      "\u001b[32m✔\u001b[39m \u001b[34mdials    \u001b[39m 0.0.9      \u001b[32m✔\u001b[39m \u001b[34mrsample  \u001b[39m 0.0.7 \n",
      "\u001b[32m✔\u001b[39m \u001b[34minfer    \u001b[39m 0.5.4      \u001b[32m✔\u001b[39m \u001b[34mtune     \u001b[39m 0.1.1 \n",
      "\u001b[32m✔\u001b[39m \u001b[34mmodeldata\u001b[39m 0.0.2      \u001b[32m✔\u001b[39m \u001b[34mworkflows\u001b[39m 0.2.0 \n",
      "\u001b[32m✔\u001b[39m \u001b[34mparsnip  \u001b[39m 0.1.3      \u001b[32m✔\u001b[39m \u001b[34myardstick\u001b[39m 0.0.7 \n",
      "\n",
      "Warning message:\n",
      "“package ‘broom’ was built under R version 4.0.2”\n",
      "Warning message:\n",
      "“package ‘dials’ was built under R version 4.0.2”\n",
      "Warning message:\n",
      "“package ‘infer’ was built under R version 4.0.3”\n",
      "Warning message:\n",
      "“package ‘modeldata’ was built under R version 4.0.1”\n",
      "Warning message:\n",
      "“package ‘parsnip’ was built under R version 4.0.2”\n",
      "Warning message:\n",
      "“package ‘recipes’ was built under R version 4.0.1”\n",
      "Warning message:\n",
      "“package ‘tune’ was built under R version 4.0.2”\n",
      "Warning message:\n",
      "“package ‘workflows’ was built under R version 4.0.2”\n",
      "Warning message:\n",
      "“package ‘yardstick’ was built under R version 4.0.2”\n",
      "── \u001b[1mConflicts\u001b[22m ───────────────────────────────────────── tidymodels_conflicts() ──\n",
      "\u001b[31m✖\u001b[39m \u001b[34mscales\u001b[39m::\u001b[32mdiscard()\u001b[39m masks \u001b[34mpurrr\u001b[39m::discard()\n",
      "\u001b[31m✖\u001b[39m \u001b[34mdplyr\u001b[39m::\u001b[32mfilter()\u001b[39m   masks \u001b[34mstats\u001b[39m::filter()\n",
      "\u001b[31m✖\u001b[39m \u001b[34mrecipes\u001b[39m::\u001b[32mfixed()\u001b[39m  masks \u001b[34mstringr\u001b[39m::fixed()\n",
      "\u001b[31m✖\u001b[39m \u001b[34mdplyr\u001b[39m::\u001b[32mlag()\u001b[39m      masks \u001b[34mstats\u001b[39m::lag()\n",
      "\u001b[31m✖\u001b[39m \u001b[34myardstick\u001b[39m::\u001b[32mspec()\u001b[39m masks \u001b[34mreadr\u001b[39m::spec()\n",
      "\u001b[31m✖\u001b[39m \u001b[34mrecipes\u001b[39m::\u001b[32mstep()\u001b[39m   masks \u001b[34mstats\u001b[39m::step()\n",
      "\n"
     ]
    }
   ],
   "source": [
    "library(repr)\n",
    "library(tidyverse)\n",
    "library(tidymodels)\n",
    "library(readxl)\n",
    "options(repr.matrix.max.rows = 6)"
   ]
  },
  {
   "cell_type": "code",
   "execution_count": 8,
   "metadata": {},
   "outputs": [
    {
     "name": "stderr",
     "output_type": "stream",
     "text": [
      "New names:\n",
      "* `` -> ...7\n",
      "* `` -> ...8\n",
      "\n"
     ]
    },
    {
     "data": {
      "text/html": [
       "<table>\n",
       "<caption>A tibble: 258 × 9</caption>\n",
       "<thead>\n",
       "\t<tr><th scope=col>STG</th><th scope=col>SCG</th><th scope=col>STR</th><th scope=col>LPR</th><th scope=col>PEG</th><th scope=col>UNS</th><th scope=col>...7</th><th scope=col>...8</th><th scope=col>Attribute Information:</th></tr>\n",
       "\t<tr><th scope=col>&lt;dbl&gt;</th><th scope=col>&lt;dbl&gt;</th><th scope=col>&lt;dbl&gt;</th><th scope=col>&lt;dbl&gt;</th><th scope=col>&lt;dbl&gt;</th><th scope=col>&lt;chr&gt;</th><th scope=col>&lt;lgl&gt;</th><th scope=col>&lt;lgl&gt;</th><th scope=col>&lt;chr&gt;</th></tr>\n",
       "</thead>\n",
       "<tbody>\n",
       "\t<tr><td>0.00</td><td>0.00</td><td>0.00</td><td>0.00</td><td>0.00</td><td>very_low</td><td>NA</td><td>NA</td><td>STG (The degree of study time for goal object materails),                  </td></tr>\n",
       "\t<tr><td>0.08</td><td>0.08</td><td>0.10</td><td>0.24</td><td>0.90</td><td>High    </td><td>NA</td><td>NA</td><td>SCG (The degree of repetition number of user for goal object materails)    </td></tr>\n",
       "\t<tr><td>0.06</td><td>0.06</td><td>0.05</td><td>0.25</td><td>0.33</td><td>Low     </td><td>NA</td><td>NA</td><td>STR (The degree of study time of user for related objects with goal object)</td></tr>\n",
       "\t<tr><td>⋮</td><td>⋮</td><td>⋮</td><td>⋮</td><td>⋮</td><td>⋮</td><td>⋮</td><td>⋮</td><td>⋮</td></tr>\n",
       "\t<tr><td>0.54</td><td>0.82</td><td>0.71</td><td>0.29</td><td>0.77</td><td>High  </td><td>NA</td><td>NA</td><td>NA</td></tr>\n",
       "\t<tr><td>0.50</td><td>0.75</td><td>0.81</td><td>0.61</td><td>0.26</td><td>Middle</td><td>NA</td><td>NA</td><td>NA</td></tr>\n",
       "\t<tr><td>0.66</td><td>0.90</td><td>0.76</td><td>0.87</td><td>0.74</td><td>High  </td><td>NA</td><td>NA</td><td>NA</td></tr>\n",
       "</tbody>\n",
       "</table>\n"
      ],
      "text/latex": [
       "A tibble: 258 × 9\n",
       "\\begin{tabular}{lllllllll}\n",
       " STG & SCG & STR & LPR & PEG & UNS & ...7 & ...8 & Attribute Information:\\\\\n",
       " <dbl> & <dbl> & <dbl> & <dbl> & <dbl> & <chr> & <lgl> & <lgl> & <chr>\\\\\n",
       "\\hline\n",
       "\t 0.00 & 0.00 & 0.00 & 0.00 & 0.00 & very\\_low & NA & NA & STG (The degree of study time for goal object materails),                  \\\\\n",
       "\t 0.08 & 0.08 & 0.10 & 0.24 & 0.90 & High     & NA & NA & SCG (The degree of repetition number of user for goal object materails)    \\\\\n",
       "\t 0.06 & 0.06 & 0.05 & 0.25 & 0.33 & Low      & NA & NA & STR (The degree of study time of user for related objects with goal object)\\\\\n",
       "\t ⋮ & ⋮ & ⋮ & ⋮ & ⋮ & ⋮ & ⋮ & ⋮ & ⋮\\\\\n",
       "\t 0.54 & 0.82 & 0.71 & 0.29 & 0.77 & High   & NA & NA & NA\\\\\n",
       "\t 0.50 & 0.75 & 0.81 & 0.61 & 0.26 & Middle & NA & NA & NA\\\\\n",
       "\t 0.66 & 0.90 & 0.76 & 0.87 & 0.74 & High   & NA & NA & NA\\\\\n",
       "\\end{tabular}\n"
      ],
      "text/markdown": [
       "\n",
       "A tibble: 258 × 9\n",
       "\n",
       "| STG &lt;dbl&gt; | SCG &lt;dbl&gt; | STR &lt;dbl&gt; | LPR &lt;dbl&gt; | PEG &lt;dbl&gt; | UNS &lt;chr&gt; | ...7 &lt;lgl&gt; | ...8 &lt;lgl&gt; | Attribute Information: &lt;chr&gt; |\n",
       "|---|---|---|---|---|---|---|---|---|\n",
       "| 0.00 | 0.00 | 0.00 | 0.00 | 0.00 | very_low | NA | NA | STG (The degree of study time for goal object materails),                   |\n",
       "| 0.08 | 0.08 | 0.10 | 0.24 | 0.90 | High     | NA | NA | SCG (The degree of repetition number of user for goal object materails)     |\n",
       "| 0.06 | 0.06 | 0.05 | 0.25 | 0.33 | Low      | NA | NA | STR (The degree of study time of user for related objects with goal object) |\n",
       "| ⋮ | ⋮ | ⋮ | ⋮ | ⋮ | ⋮ | ⋮ | ⋮ | ⋮ |\n",
       "| 0.54 | 0.82 | 0.71 | 0.29 | 0.77 | High   | NA | NA | NA |\n",
       "| 0.50 | 0.75 | 0.81 | 0.61 | 0.26 | Middle | NA | NA | NA |\n",
       "| 0.66 | 0.90 | 0.76 | 0.87 | 0.74 | High   | NA | NA | NA |\n",
       "\n"
      ],
      "text/plain": [
       "    STG  SCG  STR  LPR  PEG  UNS      ...7 ...8\n",
       "1   0.00 0.00 0.00 0.00 0.00 very_low NA   NA  \n",
       "2   0.08 0.08 0.10 0.24 0.90 High     NA   NA  \n",
       "3   0.06 0.06 0.05 0.25 0.33 Low      NA   NA  \n",
       "⋮   ⋮    ⋮    ⋮    ⋮    ⋮    ⋮        ⋮    ⋮   \n",
       "256 0.54 0.82 0.71 0.29 0.77 High     NA   NA  \n",
       "257 0.50 0.75 0.81 0.61 0.26 Middle   NA   NA  \n",
       "258 0.66 0.90 0.76 0.87 0.74 High     NA   NA  \n",
       "    Attribute Information:                                                     \n",
       "1   STG (The degree of study time for goal object materails),                  \n",
       "2   SCG (The degree of repetition number of user for goal object materails)    \n",
       "3   STR (The degree of study time of user for related objects with goal object)\n",
       "⋮   ⋮                                                                          \n",
       "256 NA                                                                         \n",
       "257 NA                                                                         \n",
       "258 NA                                                                         "
      ]
     },
     "metadata": {},
     "output_type": "display_data"
    },
    {
     "name": "stderr",
     "output_type": "stream",
     "text": [
      "New names:\n",
      "* `` -> ...7\n",
      "* `` -> ...8\n",
      "\n"
     ]
    },
    {
     "data": {
      "text/html": [
       "<table>\n",
       "<caption>A tibble: 145 × 9</caption>\n",
       "<thead>\n",
       "\t<tr><th scope=col>STG</th><th scope=col>SCG</th><th scope=col>STR</th><th scope=col>LPR</th><th scope=col>PEG</th><th scope=col>UNS</th><th scope=col>...7</th><th scope=col>...8</th><th scope=col>Attribute Information:</th></tr>\n",
       "\t<tr><th scope=col>&lt;dbl&gt;</th><th scope=col>&lt;dbl&gt;</th><th scope=col>&lt;dbl&gt;</th><th scope=col>&lt;dbl&gt;</th><th scope=col>&lt;dbl&gt;</th><th scope=col>&lt;chr&gt;</th><th scope=col>&lt;lgl&gt;</th><th scope=col>&lt;lgl&gt;</th><th scope=col>&lt;chr&gt;</th></tr>\n",
       "</thead>\n",
       "<tbody>\n",
       "\t<tr><td>0.00</td><td>0.10</td><td>0.50</td><td>0.26</td><td>0.05</td><td>Very Low</td><td>NA</td><td>NA</td><td>STG (The degree of study time for goal object materails),                  </td></tr>\n",
       "\t<tr><td>0.05</td><td>0.05</td><td>0.55</td><td>0.60</td><td>0.14</td><td>Low     </td><td>NA</td><td>NA</td><td>SCG (The degree of repetition number of user for goal object materails)    </td></tr>\n",
       "\t<tr><td>0.08</td><td>0.18</td><td>0.63</td><td>0.60</td><td>0.85</td><td>High    </td><td>NA</td><td>NA</td><td>STR (The degree of study time of user for related objects with goal object)</td></tr>\n",
       "\t<tr><td>⋮</td><td>⋮</td><td>⋮</td><td>⋮</td><td>⋮</td><td>⋮</td><td>⋮</td><td>⋮</td><td>⋮</td></tr>\n",
       "\t<tr><td>0.56</td><td>0.60</td><td>0.77</td><td>0.13</td><td>0.32</td><td>Low   </td><td>NA</td><td>NA</td><td>NA</td></tr>\n",
       "\t<tr><td>0.66</td><td>0.68</td><td>0.81</td><td>0.57</td><td>0.57</td><td>Middle</td><td>NA</td><td>NA</td><td>NA</td></tr>\n",
       "\t<tr><td>0.68</td><td>0.64</td><td>0.79</td><td>0.97</td><td>0.24</td><td>Middle</td><td>NA</td><td>NA</td><td>NA</td></tr>\n",
       "</tbody>\n",
       "</table>\n"
      ],
      "text/latex": [
       "A tibble: 145 × 9\n",
       "\\begin{tabular}{lllllllll}\n",
       " STG & SCG & STR & LPR & PEG & UNS & ...7 & ...8 & Attribute Information:\\\\\n",
       " <dbl> & <dbl> & <dbl> & <dbl> & <dbl> & <chr> & <lgl> & <lgl> & <chr>\\\\\n",
       "\\hline\n",
       "\t 0.00 & 0.10 & 0.50 & 0.26 & 0.05 & Very Low & NA & NA & STG (The degree of study time for goal object materails),                  \\\\\n",
       "\t 0.05 & 0.05 & 0.55 & 0.60 & 0.14 & Low      & NA & NA & SCG (The degree of repetition number of user for goal object materails)    \\\\\n",
       "\t 0.08 & 0.18 & 0.63 & 0.60 & 0.85 & High     & NA & NA & STR (The degree of study time of user for related objects with goal object)\\\\\n",
       "\t ⋮ & ⋮ & ⋮ & ⋮ & ⋮ & ⋮ & ⋮ & ⋮ & ⋮\\\\\n",
       "\t 0.56 & 0.60 & 0.77 & 0.13 & 0.32 & Low    & NA & NA & NA\\\\\n",
       "\t 0.66 & 0.68 & 0.81 & 0.57 & 0.57 & Middle & NA & NA & NA\\\\\n",
       "\t 0.68 & 0.64 & 0.79 & 0.97 & 0.24 & Middle & NA & NA & NA\\\\\n",
       "\\end{tabular}\n"
      ],
      "text/markdown": [
       "\n",
       "A tibble: 145 × 9\n",
       "\n",
       "| STG &lt;dbl&gt; | SCG &lt;dbl&gt; | STR &lt;dbl&gt; | LPR &lt;dbl&gt; | PEG &lt;dbl&gt; | UNS &lt;chr&gt; | ...7 &lt;lgl&gt; | ...8 &lt;lgl&gt; | Attribute Information: &lt;chr&gt; |\n",
       "|---|---|---|---|---|---|---|---|---|\n",
       "| 0.00 | 0.10 | 0.50 | 0.26 | 0.05 | Very Low | NA | NA | STG (The degree of study time for goal object materails),                   |\n",
       "| 0.05 | 0.05 | 0.55 | 0.60 | 0.14 | Low      | NA | NA | SCG (The degree of repetition number of user for goal object materails)     |\n",
       "| 0.08 | 0.18 | 0.63 | 0.60 | 0.85 | High     | NA | NA | STR (The degree of study time of user for related objects with goal object) |\n",
       "| ⋮ | ⋮ | ⋮ | ⋮ | ⋮ | ⋮ | ⋮ | ⋮ | ⋮ |\n",
       "| 0.56 | 0.60 | 0.77 | 0.13 | 0.32 | Low    | NA | NA | NA |\n",
       "| 0.66 | 0.68 | 0.81 | 0.57 | 0.57 | Middle | NA | NA | NA |\n",
       "| 0.68 | 0.64 | 0.79 | 0.97 | 0.24 | Middle | NA | NA | NA |\n",
       "\n"
      ],
      "text/plain": [
       "    STG  SCG  STR  LPR  PEG  UNS      ...7 ...8\n",
       "1   0.00 0.10 0.50 0.26 0.05 Very Low NA   NA  \n",
       "2   0.05 0.05 0.55 0.60 0.14 Low      NA   NA  \n",
       "3   0.08 0.18 0.63 0.60 0.85 High     NA   NA  \n",
       "⋮   ⋮    ⋮    ⋮    ⋮    ⋮    ⋮        ⋮    ⋮   \n",
       "143 0.56 0.60 0.77 0.13 0.32 Low      NA   NA  \n",
       "144 0.66 0.68 0.81 0.57 0.57 Middle   NA   NA  \n",
       "145 0.68 0.64 0.79 0.97 0.24 Middle   NA   NA  \n",
       "    Attribute Information:                                                     \n",
       "1   STG (The degree of study time for goal object materails),                  \n",
       "2   SCG (The degree of repetition number of user for goal object materails)    \n",
       "3   STR (The degree of study time of user for related objects with goal object)\n",
       "⋮   ⋮                                                                          \n",
       "143 NA                                                                         \n",
       "144 NA                                                                         \n",
       "145 NA                                                                         "
      ]
     },
     "metadata": {},
     "output_type": "display_data"
    }
   ],
   "source": [
    "url <- \"https://archive.ics.uci.edu/ml/machine-learning-databases/00257/Data_User_Modeling_Dataset_Hamdi%20Tolga%20KAHRAMAN.xls\"\n",
    "\n",
    "download.file(url, destfile = \"User Knowledge/Data_User_Modeling_Dataset_Hamdi%20Tolga%20KAHRAMAN.xls\") \n",
    "training_data <- read_excel(path = \"User Knowledge/Data_User_Modeling_Dataset_Hamdi%20Tolga%20KAHRAMAN.xls\", sheet = 2)\n",
    "training_data\n",
    "testing_data <- read_excel(path = \"User Knowledge/Data_User_Modeling_Dataset_Hamdi%20Tolga%20KAHRAMAN.xls\", sheet = 3)\n",
    "testing_data"
   ]
  },
  {
   "cell_type": "code",
   "execution_count": null,
   "metadata": {},
   "outputs": [],
   "source": []
  }
 ],
 "metadata": {
  "kernelspec": {
   "display_name": "R",
   "language": "R",
   "name": "ir"
  },
  "language_info": {
   "codemirror_mode": "r",
   "file_extension": ".r",
   "mimetype": "text/x-r-source",
   "name": "R",
   "pygments_lexer": "r",
   "version": "4.0.0"
  }
 },
 "nbformat": 4,
 "nbformat_minor": 4
}
